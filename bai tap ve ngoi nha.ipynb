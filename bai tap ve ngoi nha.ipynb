{
 "cells": [
  {
   "cell_type": "markdown",
   "id": "f585479a",
   "metadata": {},
   "source": [
    "vẽ mặt trời"
   ]
  },
  {
   "cell_type": "code",
   "execution_count": null,
   "id": "bd8f5fd2",
   "metadata": {},
   "outputs": [],
   "source": [
    "import turtle\n",
    "t = turtle.Turtle()\n",
    "\n",
    "t.speed(200)\n",
    "\n",
    "# vẽ mặt trời\n",
    "\n",
    "t.penup()\n",
    "t.setposition(-120,120)\n",
    "t.pendown()\n",
    "\n",
    "t.pensize(2)\n",
    "t.pencolor (\"red\")\n",
    "\n",
    "t.fillcolor (\"yellow\")\n",
    "t.begin_fill()\n",
    "\n",
    "for i in range(9):\n",
    "  t.forward(30)\n",
    "  t.left(160)\n",
    "  t.forward(30)\n",
    "  t.right(120)\n",
    "\n",
    "t.end_fill()\n",
    "t.done\n",
    "\n"
   ]
  },
  {
   "cell_type": "markdown",
   "id": "ba9c91b8",
   "metadata": {},
   "source": [
    "Vẽ cái cây"
   ]
  },
  {
   "cell_type": "code",
   "execution_count": null,
   "id": "23dbce28",
   "metadata": {},
   "outputs": [],
   "source": [
    "import turtle\n",
    "t = turtle.Turtle()\n",
    "\n",
    "t.speed(200)\n",
    "\n",
    "# vẽ gốc cây\n",
    "\n",
    "t.penup()\n",
    "t.setposition(120,-150)\n",
    "t.pendown()\n",
    "\n",
    "t.pensize(2)\n",
    "t.pencolor (\"black\")\n",
    "\n",
    "t.fillcolor (\"brown\")\n",
    "t.begin_fill()\n",
    "\n",
    "for i in range(2):\n",
    "  t.forward(15)\n",
    "  t.left(90)\n",
    "  t.forward(60)\n",
    "  t.right(270)\n",
    "\n",
    "t.end_fill()\n",
    "t.done\n",
    "\n",
    "#vẽ thân cây\n",
    "\n",
    "t.penup()\n",
    "t.setposition(120,-90)\n",
    "t.pendown()\n",
    "\n",
    "t.pensize(2)\n",
    "t.pencolor (\"black\")\n",
    "\n",
    "t.fillcolor (\"green\")\n",
    "t.begin_fill()\n",
    "\n",
    "t.forward(60)\n",
    "t.left(110)\n",
    "t.forward(180)\n",
    "t.right(220)\n",
    "t.forward(180)\n",
    "t.left(110)\n",
    "t.forward(80)\n",
    "\n",
    "t.end_fill()\n",
    "t.done"
   ]
  }
 ],
 "metadata": {
  "kernelspec": {
   "display_name": "Python 3 (ipykernel)",
   "language": "python",
   "name": "python3"
  },
  "language_info": {
   "codemirror_mode": {
    "name": "ipython",
    "version": 3
   },
   "file_extension": ".py",
   "mimetype": "text/x-python",
   "name": "python",
   "nbconvert_exporter": "python",
   "pygments_lexer": "ipython3",
   "version": "3.9.12"
  }
 },
 "nbformat": 4,
 "nbformat_minor": 5
}
